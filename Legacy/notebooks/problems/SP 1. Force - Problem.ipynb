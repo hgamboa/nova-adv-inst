{
 "cells": [
  {
   "cell_type": "markdown",
   "metadata": {},
   "source": [
    "# Example 1 - Extract parameters from a force signal\n",
    "\n",
    "Detect onset and offset of a signal,  the first maximum and maximum variation on production of force."
   ]
  },
  {
   "cell_type": "code",
   "execution_count": 24,
   "metadata": {},
   "outputs": [
    {
     "name": "stdout",
     "output_type": "stream",
     "text": [
      "Populating the interactive namespace from numpy and matplotlib\n"
     ]
    }
   ],
   "source": [
    "%pylab inline\n",
    "import novainstrumentation as ni\n",
    "from pylab import *\n",
    "import seaborn"
   ]
  },
  {
   "cell_type": "markdown",
   "metadata": {},
   "source": [
    "## 1. Load data and plot "
   ]
  },
  {
   "cell_type": "code",
   "execution_count": 7,
   "metadata": {},
   "outputs": [
    {
     "data": {
      "text/plain": [
       "[<matplotlib.lines.Line2D at 0x7fe1c81d2310>]"
      ]
     },
     "execution_count": 7,
     "metadata": {},
     "output_type": "execute_result"
    },
    {
     "data": {
      "image/png": "[encoded data removed]",
      "text/plain": [
       "<Figure size 1152x216 with 1 Axes>"
      ]
     },
     "metadata": {
      "needs_background": "light"
     },
     "output_type": "display_data"
    }
   ],
   "source": [
    "figure(figsize=(16,3))\n",
    "t,s = loadtxt('../data/force.txt')\n",
    "plot(t,s)"
   ]
  },
  {
   "cell_type": "markdown",
   "metadata": {},
   "source": [
    "## 2. Clean and ressample\n",
    "Execute: \n",
    "* a) smooth filter with a window of 100 samples  \n",
    "* b) ressample both time and signal with a subsampling (ratio of 1:10)\n",
    "* c) plot result\n"
   ]
  },
  {
   "cell_type": "code",
   "execution_count": null,
   "metadata": {
    "scrolled": true
   },
   "outputs": [],
   "source": []
  },
  {
   "cell_type": "markdown",
   "metadata": {},
   "source": [
    "## 3. Extract activation information:\n",
    "\n",
    "* a) On set time - 5% of the full scale above the minimum\n",
    "* b) Off set time \n",
    "* b) Activation time - From onset to offset\n",
    "* c) First maximum delay from onset\n",
    "* d) Max production of force delay\n",
    "\n",
    "Anottate on the graph with vertical lines"
   ]
  },
  {
   "cell_type": "code",
   "execution_count": 1,
   "metadata": {
    "scrolled": true
   },
   "outputs": [
    {
     "name": "stdout",
     "output_type": "stream",
     "text": [
      "Onset: 0.000000 s\n",
      "Offset: 0.000000 s\n",
      "Activation time: 0.000000 s\n",
      "First maximum delay: 0.000000 s\n",
      "Delay to derivate maximum: 0.000000 s\n"
     ]
    }
   ],
   "source": [
    "\n",
    "onset = 0\n",
    "print(\"Onset: %f s\" % onset)\n",
    "\n",
    "offset = 0\n",
    "print(\"Offset: %f s\" % offset)\n",
    "\n",
    "act_time = offset-onset\n",
    "print(\"Activation time: %f s\" % act_time )\n",
    "\n",
    "first_max =  0 # use threshold above 60\n",
    "print(\"First maximum delay: %f s\" % (first_max - onset) )\n",
    "\n",
    "t_max_diff = 0\n",
    "print(\"Delay to derivate maximum: %f s\" % (t_max_diff - onset) )\n"
   ]
  },
  {
   "cell_type": "code",
   "execution_count": null,
   "metadata": {
    "collapsed": true
   },
   "outputs": [],
   "source": []
  }
 ],
 "metadata": {
  "kernelspec": {
   "display_name": "Python 3",
   "language": "python",
   "name": "python3"
  },
  "language_info": {
   "codemirror_mode": {
    "name": "ipython",
    "version": 3
   },
   "file_extension": ".py",
   "mimetype": "text/x-python",
   "name": "python",
   "nbconvert_exporter": "python",
   "pygments_lexer": "ipython3",
   "version": "3.8.5"
  }
 },
 "nbformat": 4,
 "nbformat_minor": 1
}
