{
 "cells": [
  {
   "cell_type": "markdown",
   "id": "6a61b814-f3b4-4b68-b257-69ffe1d2acf5",
   "metadata": {},
   "source": [
    "## Lab5 Goal 2.2.1 ResNet Solution Augmented"
   ]
  },
  {
   "cell_type": "code",
   "execution_count": null,
   "id": "9f947938-5329-456c-981c-31716f0a410e",
   "metadata": {},
   "outputs": [],
   "source": [
    "#only if you get restart karnell with plt.show\n",
    "import os\n",
    "os.environ[\"KMP_DUPLICATE_LIB_OK\"] = \"TRUE\""
   ]
  },
  {
   "cell_type": "code",
   "execution_count": null,
   "id": "d7e99a0d-5f29-4273-9b2c-e640c7c88d52",
   "metadata": {},
   "outputs": [],
   "source": [
    "%matplotlib inline\n",
    "import matplotlib.pyplot as plt\n",
    "\n",
    "import torch\n",
    "from torch import nn\n",
    "from torch.utils.data import DataLoader, random_split\n",
    "from torchvision import datasets, transforms\n",
    "from torchvision.transforms import ToTensor\n",
    "from torchvision import models\n",
    "\n",
    "from random import randint"
   ]
  },
  {
   "cell_type": "code",
   "execution_count": null,
   "id": "953fc145-cd89-42ef-bbc8-896b01cd14e3",
   "metadata": {},
   "outputs": [],
   "source": [
    "# Step 1: Define image transformations\n",
    "transform = transforms.Compose([\n",
    "    transforms.Grayscale(),              # Ensure single channel\n",
    "    #transforms.Resize((28, 28)),  # Resize if necessary\n",
    "    transforms.RandomRotation(15),             # Rotate ±15 degrees\n",
    "    transforms.RandomAffine(degrees=0, translate=(0.1, 0.1)),  # Small shif  \n",
    "    transforms.ToTensor(),        # Convert to tensor\n",
    "    transforms.Normalize((0.5,), (0.5,))  # Normalize grayscale images\n",
    "])\n"
   ]
  },
  {
   "cell_type": "code",
   "execution_count": null,
   "id": "abf4ec64-13cb-4300-95fe-c67bda5690a6",
   "metadata": {},
   "outputs": [],
   "source": [
    "# Step 2: Load dataset from folder\n",
    "dataset_path = 'ImgDataSet/train'  # Replace with your actual path\n",
    "full_dataset = datasets.ImageFolder(root=dataset_path, transform=transform)\n",
    "\n",
    "# Step 3: Split into train and test sets (e.g., 80/20)\n",
    "train_size = int(0.8 * len(full_dataset))\n",
    "test_size = len(full_dataset) - train_size\n",
    "train_dataset, test_dataset = random_split(full_dataset, [train_size, test_size])"
   ]
  },
  {
   "cell_type": "code",
   "execution_count": null,
   "id": "91f6f8db-29bd-445b-bee2-ce16924c8be6",
   "metadata": {},
   "outputs": [],
   "source": [
    "# Step 4: Create DataLoaders\n",
    "train_dataloader = DataLoader(train_dataset, batch_size=16, shuffle=True)\n",
    "test_dataloader = DataLoader(test_dataset, batch_size=16, shuffle=False)\n",
    "\n",
    "# Step 5: Check class labels\n",
    "print(\"Classes:\", full_dataset.classes)\n"
   ]
  },
  {
   "cell_type": "code",
   "execution_count": null,
   "id": "e6159675-2a76-42cb-857f-164dcfaa4c76",
   "metadata": {},
   "outputs": [],
   "source": [
    "for X, y in test_dataloader:\n",
    "    print(f\"Shape of X [N, C, H, W]: {X.shape}\")\n",
    "    print(f\"Shape of y: {y.shape} {y.dtype}\")\n",
    "    break"
   ]
  },
  {
   "cell_type": "code",
   "execution_count": null,
   "id": "26dc8907-36d7-4ce0-ab18-c9f22d7aaa5c",
   "metadata": {},
   "outputs": [],
   "source": [
    "device = torch.accelerator.current_accelerator().type if torch.accelerator.is_available() else \"cpu\"\n",
    "print(f\"Using {device} device\")\n",
    "\n",
    "# Define model (ResNet18 pretrained model)\n",
    "class NeuralNetwork(nn.Module):\n",
    "    def __init__(self, num_classes=10):\n",
    "        super().__init__()\n",
    "        # Load pretrained ResNet18\n",
    "        self.base_model = models.resnet18(pretrained=True)\n",
    "\n",
    "        # Adapt input layer for grayscale images (1 channel instead of 3)\n",
    "        self.base_model.conv1 = nn.Conv2d(1, 64, kernel_size=7, stride=2, padding=3, bias=False)\n",
    "\n",
    "        # Replace the final fully connected layer\n",
    "        self.base_model.fc = nn.Linear(self.base_model.fc.in_features, num_classes)\n",
    "\n",
    "    def forward(self, x):\n",
    "        return self.base_model(x)\n",
    "\n",
    "model = NeuralNetwork().to(device)\n",
    "print(model)"
   ]
  },
  {
   "cell_type": "code",
   "execution_count": null,
   "id": "94bdbe3e-5056-4895-8455-4cc884a1559c",
   "metadata": {},
   "outputs": [],
   "source": [
    "loss_fn = nn.CrossEntropyLoss()\n",
    "optimizer = torch.optim.SGD(model.parameters(), lr=1e-3)"
   ]
  },
  {
   "cell_type": "code",
   "execution_count": null,
   "id": "be0756ab-5670-4121-8c36-9a4ba88e46f3",
   "metadata": {},
   "outputs": [],
   "source": [
    "def train(dataloader, model, loss_fn, optimizer):\n",
    "    size = len(dataloader.dataset)\n",
    "    model.train()\n",
    "    loss_ret=[]\n",
    "    for batch, (X, y) in enumerate(dataloader):\n",
    "        X, y = X.to(device), y.to(device)\n",
    "\n",
    "        # Compute prediction error\n",
    "        pred = model(X)\n",
    "        loss = loss_fn(pred, y)\n",
    "\n",
    "        # Backpropagation\n",
    "        loss.backward()\n",
    "        optimizer.step()\n",
    "        optimizer.zero_grad()\n",
    "\n",
    "        if batch % 100 == 0:\n",
    "            loss, current = loss.item(), (batch + 1) * len(X)\n",
    "            print(f\"loss: {loss:>7f}  [{current:>5d}/{size:>5d}]\")\n",
    "            loss_ret.append(loss)\n",
    "\n",
    "    return loss_ret"
   ]
  },
  {
   "cell_type": "code",
   "execution_count": null,
   "id": "54b9a791-43ab-4a1c-b277-d5e5934c93c6",
   "metadata": {},
   "outputs": [],
   "source": [
    "def test(dataloader, model, loss_fn):\n",
    "    size = len(dataloader.dataset)\n",
    "    num_batches = len(dataloader)\n",
    "    model.eval()\n",
    "    test_loss, correct = 0, 0\n",
    "    with torch.no_grad():\n",
    "        for X, y in dataloader:\n",
    "            X, y = X.to(device), y.to(device)\n",
    "            pred = model(X)\n",
    "            test_loss += loss_fn(pred, y).item()\n",
    "            correct += (pred.argmax(1) == y).type(torch.float).sum().item()\n",
    "    test_loss /= num_batches\n",
    "    correct /= size\n",
    "    print(f\"Test Error: \\n Accuracy: {(100*correct):>0.1f}%, Avg loss: {test_loss:>8f} \\n\")\n",
    "\n",
    "    return [test_loss, correct]"
   ]
  },
  {
   "cell_type": "code",
   "execution_count": null,
   "id": "fc4afa96-a729-4a90-9a01-18f82125ed18",
   "metadata": {},
   "outputs": [],
   "source": [
    "epochs = 10\n",
    "loss=[]\n",
    "acc_test=[]\n",
    "for t in range(epochs):\n",
    "    print(f\"Epoch {t+1}\\n-------------------------------\")\n",
    "    loss.append(train(train_dataloader, model, loss_fn, optimizer))\n",
    "    acc_test.append(test(test_dataloader, model, loss_fn))\n",
    "print(\"Done!\")"
   ]
  },
  {
   "cell_type": "code",
   "execution_count": null,
   "id": "8163a45c-53ae-46c8-998a-9458b0087298",
   "metadata": {},
   "outputs": [],
   "source": [
    "# plot achieved accuracy after each epoch\n",
    "x = list(range(1,epochs+1))\n",
    "plt.plot(x, acc_test)\n",
    "plt.xlabel(\"Epoch\")\n",
    "plt.plot(x, acc_test, label=['Loss', 'Acuracy/100'])\n",
    "plt.legend(loc='upper right', title='Data Series')\n",
    "plt.show()"
   ]
  },
  {
   "cell_type": "code",
   "execution_count": null,
   "id": "fe9f1ccb-0c26-4c94-a2c9-9ec77f58f566",
   "metadata": {},
   "outputs": [],
   "source": [
    "torch.save(model.state_dict(), \"model_ResNet.pth\")\n",
    "print(\"Saved PyTorch Model State to model.pth\")"
   ]
  },
  {
   "cell_type": "code",
   "execution_count": null,
   "id": "4cb230f3-a3a5-4ea1-aaed-bd7c9112d879",
   "metadata": {},
   "outputs": [],
   "source": [
    "model = NeuralNetwork().to(device)\n",
    "model.load_state_dict(torch.load(\"model_ResNet.pth\", weights_only=True))"
   ]
  },
  {
   "cell_type": "code",
   "execution_count": null,
   "id": "41c54a19-6791-45c3-a1fb-f5030415fa89",
   "metadata": {},
   "outputs": [],
   "source": [
    "model.eval()\n",
    "\n",
    "for i in range(30):\n",
    "    n= randint(0, test_size-1)\n",
    "    x, y = test_dataset[n][0], test_dataset[n][1]\n",
    "    with torch.no_grad():\n",
    "        #x = x.to(device)\n",
    "        x = x.unsqueeze(0).to(device)  # Shape becomes [1, 1, 28, 28]\n",
    "        pred = model(x)\n",
    "        print(f'\"Test index: \"{n}\", Predicted: \"{pred[0].argmax(0)}\", Actual: \"{y}\"')"
   ]
  },
  {
   "cell_type": "code",
   "execution_count": null,
   "id": "946d8ee3-caed-4ac3-8c1a-3043077c4e3c",
   "metadata": {},
   "outputs": [],
   "source": []
  }
 ],
 "metadata": {
  "kernelspec": {
   "display_name": "Python [conda env:base] *",
   "language": "python",
   "name": "conda-base-py"
  },
  "language_info": {
   "codemirror_mode": {
    "name": "ipython",
    "version": 3
   },
   "file_extension": ".py",
   "mimetype": "text/x-python",
   "name": "python",
   "nbconvert_exporter": "python",
   "pygments_lexer": "ipython3",
   "version": "3.12.7"
  }
 },
 "nbformat": 4,
 "nbformat_minor": 5
}
