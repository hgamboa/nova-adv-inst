{
 "cells": [
  {
   "cell_type": "markdown",
   "id": "83caedad-2359-471d-aa0e-06993054ed65",
   "metadata": {},
   "source": [
    "## Goal 2.1 Test ML audiofiles classification"
   ]
  },
  {
   "cell_type": "code",
   "execution_count": null,
   "id": "3312c80c-37e7-49a2-b242-d5a269f1bf9e",
   "metadata": {},
   "outputs": [],
   "source": [
    "# imports\n",
    "#import Libraries\n",
    "import numpy as np\n",
    "from pydub import AudioSegment\n",
    "import os\n",
    "import glob\n",
    "import tsfel\n",
    "import csv\n",
    "import pickle"
   ]
  },
  {
   "cell_type": "code",
   "execution_count": null,
   "id": "b5a6c222-1b36-464a-9284-aac1899e43ef",
   "metadata": {},
   "outputs": [],
   "source": [
    "#configuration\n",
    "fs=44100        #audio sampling frequency"
   ]
  },
  {
   "cell_type": "code",
   "execution_count": null,
   "id": "6505b5a7-9b4c-4594-9eb8-b9c824df9620",
   "metadata": {},
   "outputs": [],
   "source": [
    "# Load the saved Orange model\n",
    "with open('AudioModel.pkcls', 'rb') as model_file:\n",
    "    model = pickle.load(model_file)"
   ]
  },
  {
   "cell_type": "code",
   "execution_count": null,
   "id": "5dba4838-7702-4ca2-b24a-b66b96db0c76",
   "metadata": {},
   "outputs": [],
   "source": [
    "# Print or use the model\n",
    "print(model)"
   ]
  },
  {
   "cell_type": "code",
   "execution_count": null,
   "id": "0cfb7906-71f0-41a0-9037-2ab3d98755d0",
   "metadata": {},
   "outputs": [],
   "source": [
    "#list all the wav in audio folder:\n",
    "audio_folder = \".\\\\AudioDataset\\\\validation\\\\2\\\\\"\n",
    "wav_files = glob.glob(audio_folder+\"*.wav\")\n",
    "\n",
    "print('\\n'.join('{} -> {}'.format(*k) for k in enumerate(wav_files)))\n",
    "\n",
    "#request user to selesct file\n",
    "audio_n=input('Select the number of the audio file:')"
   ]
  },
  {
   "cell_type": "code",
   "execution_count": null,
   "id": "8b5fb94c-3e02-4ee0-bfe8-74b2c0d47ad3",
   "metadata": {},
   "outputs": [],
   "source": [
    "#extract features\n",
    "features=[]     #list of features\n",
    "\n",
    "# Load MP3 file\n",
    "print('Loading' + wav_files[int(audio_n)])\n",
    "audio = AudioSegment.from_file(wav_files[int(audio_n)])\n",
    "\n",
    "#convert to mono\n",
    "audio = audio.set_channels(1)\n",
    "\n",
    "# Convert to NumPy array\n",
    "s = np.array(audio.get_array_of_samples())\n",
    "\n",
    "#extract features\n",
    "features.append(tsfel.feature_extraction.features.spectral_centroid(s, fs))\n",
    "features.append(tsfel.feature_extraction.features.spectral_decrease(s, fs))\n",
    "features.append(tsfel.feature_extraction.features.spectral_kurtosis(s, fs))\n",
    "features.append(tsfel.feature_extraction.features.spectral_skewness(s, fs))\n",
    "features.append(tsfel.feature_extraction.features.spectral_slope(s, fs))\n",
    "features.append(tsfel.feature_extraction.features.spectral_spread(s, fs))\n",
    "features.append(tsfel.feature_extraction.features.spectral_variation(s, fs))\n",
    "\n",
    "print(features)\n"
   ]
  },
  {
   "cell_type": "code",
   "execution_count": null,
   "id": "6761ddaf-5dca-4ea9-9c59-f1c6bcd200d7",
   "metadata": {},
   "outputs": [],
   "source": [
    "#prediction\n",
    "prediction = model(features)\n",
    "print(\"Predicted class:\", prediction)"
   ]
  },
  {
   "cell_type": "code",
   "execution_count": null,
   "id": "d06bbc34-5740-4eee-b740-586b04d8e422",
   "metadata": {},
   "outputs": [],
   "source": []
  }
 ],
 "metadata": {
  "kernelspec": {
   "display_name": "Python [conda env:base] *",
   "language": "python",
   "name": "conda-base-py"
  },
  "language_info": {
   "codemirror_mode": {
    "name": "ipython",
    "version": 3
   },
   "file_extension": ".py",
   "mimetype": "text/x-python",
   "name": "python",
   "nbconvert_exporter": "python",
   "pygments_lexer": "ipython3",
   "version": "3.12.7"
  }
 },
 "nbformat": 4,
 "nbformat_minor": 5
}
