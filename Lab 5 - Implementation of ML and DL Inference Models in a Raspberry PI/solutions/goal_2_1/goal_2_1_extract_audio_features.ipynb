{
 "cells": [
  {
   "cell_type": "markdown",
   "id": "85c79996-7a83-4ad8-aefc-12c9a245644a",
   "metadata": {},
   "source": [
    "## Goal 2.1 - Extract audiofiles features"
   ]
  },
  {
   "cell_type": "code",
   "execution_count": null,
   "id": "19085a7e-c49b-4a05-b238-9d0ec41e794a",
   "metadata": {},
   "outputs": [],
   "source": [
    "#import Libraries\n",
    "import numpy as np\n",
    "from pydub import AudioSegment\n",
    "import os\n",
    "import glob\n",
    "import tsfel\n",
    "import csv"
   ]
  },
  {
   "cell_type": "code",
   "execution_count": null,
   "id": "7a502f08-a43f-4b8f-b1b8-ab3081467135",
   "metadata": {},
   "outputs": [],
   "source": [
    "#configuration\n",
    "fs=44100        #audio sampling frequency\n",
    "t=2             #time of each music sample\n",
    "n_samples=10    #number of samples used in each music"
   ]
  },
  {
   "cell_type": "code",
   "execution_count": null,
   "id": "5ad11571-c450-477c-8de3-ea6e03f1da00",
   "metadata": {},
   "outputs": [],
   "source": [
    "#list all the mp3 in audio folder:\n",
    "audio_folder = \".\\\\AudioDataset\\\\train\\\\0\\\\\"\n",
    "mp3_files = glob.glob(audio_folder+\"*.wav\")\n",
    "n_mp3 = len(mp3_files)\n",
    "\n",
    "print('List of Audio Files:', *mp3_files, sep='\\n- ')"
   ]
  },
  {
   "cell_type": "code",
   "execution_count": null,
   "id": "1902ed92-b653-4e56-a131-2991a1f329c1",
   "metadata": {},
   "outputs": [],
   "source": [
    "#extract features\n",
    "features=[]     #list of features\n",
    "#Loop all the available audio files\n",
    "for target in range(10):\n",
    "    audio_folder = \".\\\\AudioDataset\\\\train\\\\\"+str(target)+\"\\\\\"\n",
    "    wav_files = glob.glob(audio_folder+\"*.wav\")\n",
    "    \n",
    "    for track in wav_files:\n",
    "    \n",
    "        # Load MP3 file\n",
    "        print(track)\n",
    "        audio = AudioSegment.from_file(track)\n",
    "        \n",
    "        #convert to mono\n",
    "        audio = audio.set_channels(1)\n",
    "        \n",
    "        # Convert to NumPy array\n",
    "        s = np.array(audio.get_array_of_samples())\n",
    "    \n",
    "        #extract features\n",
    "        d=[]\n",
    "        d.append(target) #target class\n",
    "        d.append(tsfel.feature_extraction.features.spectral_centroid(s, fs))\n",
    "        d.append(tsfel.feature_extraction.features.spectral_decrease(s, fs))\n",
    "        d.append(tsfel.feature_extraction.features.spectral_kurtosis(s, fs))\n",
    "        d.append(tsfel.feature_extraction.features.spectral_skewness(s, fs))\n",
    "        d.append(tsfel.feature_extraction.features.spectral_slope(s, fs))\n",
    "        d.append(tsfel.feature_extraction.features.spectral_spread(s, fs))\n",
    "        d.append(tsfel.feature_extraction.features.spectral_variation(s, fs))\n",
    "        features.append(d)\n",
    "        print(d)\n"
   ]
  },
  {
   "cell_type": "code",
   "execution_count": null,
   "id": "eadd6952-58e7-4713-a369-e51009a2c8e6",
   "metadata": {},
   "outputs": [],
   "source": [
    "#save features list in the file audio_features.csv\n",
    "with open(\"audio_features.csv\", \"w\", newline=\"\") as file:\n",
    "    writer = csv.writer(file)\n",
    "    for n in range(len(features)):\n",
    "        writer.writerow(features[n])  # Writes all numbers in a single row"
   ]
  },
  {
   "cell_type": "code",
   "execution_count": null,
   "id": "8f209a95-3f79-46e9-b17e-8e8adc4c16f1",
   "metadata": {},
   "outputs": [],
   "source": []
  }
 ],
 "metadata": {
  "kernelspec": {
   "display_name": "Python [conda env:base] *",
   "language": "python",
   "name": "conda-base-py"
  },
  "language_info": {
   "codemirror_mode": {
    "name": "ipython",
    "version": 3
   },
   "file_extension": ".py",
   "mimetype": "text/x-python",
   "name": "python",
   "nbconvert_exporter": "python",
   "pygments_lexer": "ipython3",
   "version": "3.12.7"
  }
 },
 "nbformat": 4,
 "nbformat_minor": 5
}
