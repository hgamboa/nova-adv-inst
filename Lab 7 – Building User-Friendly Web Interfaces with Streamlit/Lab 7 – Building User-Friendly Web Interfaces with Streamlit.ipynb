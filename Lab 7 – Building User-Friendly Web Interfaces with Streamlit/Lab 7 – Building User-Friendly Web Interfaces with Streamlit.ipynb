{
 "cells": [
  {
   "cell_type": "markdown",
   "id": "7a38ae7f-644c-411d-aa3e-8b2f4de9bd09",
   "metadata": {},
   "source": [
    "<table style=\"background-color:#F5F5F5;\" width=\"100%\">\n",
    "<tr><td style=\"background-color:#F5F5F5;\"><img src=\"logo.png\" width=\"300\" align='right'/></td></tr>     <tr><td>\n",
    "            <h1><center>Aplicações Avançadas de Instrumentação Biomédica (AAIB)</center></h1>\n",
    "            <h3><center>1st Semester - 2025/2026</center></h3>\n",
    "            <h4><center>Universidade Nova de Lisboa - Faculdade de Ciências e Tecnologia</center></h4>\n",
    "</td></tr>\n",
    "    <tr><td><h1><center>Lab 7 – Building User-Friendly Web Interfaces with Streamlit</center></h1></td></tr>\n",
    "</table>"
   ]
  },
  {
   "cell_type": "markdown",
   "id": "e3b98bce-e99d-4329-a490-be0c065c2543",
   "metadata": {},
   "source": [
    "## Goals:\n",
    "\n",
    "\n"
   ]
  },
  {
   "cell_type": "markdown",
   "id": "3b1cf220-a5b5-4af4-8779-4776c0cca9ef",
   "metadata": {},
   "source": [
    "## Prerequisites:\n",
    "\n",
    "### Learn about Streamlit\n",
    "Streamlit is an open-source app framework in Python language. It helps to create web apps for data science and machine learning. It is compatible with major Python libraries such as scikit-learn, Keras, PyTorch, SymPy(latex), NumPy, Pandas, Matplotlib etc.\n",
    "\n",
    "In https://streamlit.io/ you can find all the documentation and examples necessary to learn how to use this framework. Particular attention to https://docs.streamlit.io/library/api-reference where you can find all the components that is possible to integrate in your web pages.\n",
    "\n",
    "### Install Streamlit in the Anaconda Enviorment of the PC\n",
    "* Open anaconda prompt and confirm that you have the right enviorment active. Run the following command:\n",
    "  * conda install -c conda-forge streamlit\n",
    "* If the previous command does not work or takes to much time, try this alternative\n",
    "  * pip install streamlit\n",
    "* Complementary information in: https://docs.streamlit.io/get-started/installation\n",
    "\n",
    "### Test Streamlit Installation\n",
    "* In the anaconda prompt, run the following command:\n",
    "  * streamlit hello\n",
    "  *  This action should open a new page in your browser with a test page.\n",
    "*  To end the program, do Ctrl^C in anaconda prompt before close web page.\n"
   ]
  },
  {
   "cell_type": "markdown",
   "id": "aca7e5fd-9239-4b48-8f2d-37a797af687c",
   "metadata": {},
   "source": [
    "## Goal 1.1 - Create the First Web Page\n",
    "* Open Spyder (or equivalent) in your PC and write the following python script:\n",
    "  * import streamlit as st\n",
    "  * st.title(\"My First Page\")\n",
    "  * st.text(\"Hello world\")\n",
    "* Save the script in a folder and name of your choice.\n",
    "* From anaconda prompt do:\n",
    "  * change for the same folder where your program was saved\n",
    "  * run: streamlit run NameOfYourPogram.py \n",
    "    *Note: To end program, do Ctrl^C in anaconda prompt before close web page.\n",
    "  * You should have now, in your browser, a new page showing the contents that you programed.\n",
    "\n",
    "The st.title and st.text are examples ofcomponents that you have available for your pages. There is a collection of those elements that you can found in: https://docs.streamlit.io/library/api-reference. Explore those components and find the ones related with inputs. "
   ]
  },
  {
   "cell_type": "markdown",
   "id": "6011e79c-641b-42c3-9082-86617b40ca13",
   "metadata": {},
   "source": [
    "## Goal 1.2 - Multiply Two Numbers\n",
    "Starting from the script of Goal 1.1, add the necessary componests in order to multply two numbers:\n",
    "* Add two input number boxes (st.number_input)\n",
    "* Add a button to do the calculation (st.button)\n",
    "* Print the result of the multiplication of the two numbers (st.text)\n",
    "  \n",
    "Run the program as you have done in goal 1.1\n",
    "\n",
    "Your web page should look like:"
   ]
  },
  {
   "cell_type": "markdown",
   "id": "7fb19d8b-3348-4dfa-a3ee-9ba03869c9b6",
   "metadata": {},
   "source": [
    "<tr><td style=\"background-color:#F5F5F5;\"><img src=\"goal_1_2.png\" width=\"500\" align='center'/></td></tr> "
   ]
  },
  {
   "cell_type": "markdown",
   "id": "f1ae369c-7e24-44f2-97f1-597f335c247b",
   "metadata": {},
   "source": [
    "## Goal 1.3 - Plotting Data\n",
    "* Start a new streamlit script\n",
    "* Add the follwing code to generate some data:"
   ]
  },
  {
   "cell_type": "code",
   "execution_count": 11,
   "id": "a2862094-619a-4f22-abc8-d7aadbfd6e78",
   "metadata": {},
   "outputs": [],
   "source": [
    "import numpy as np\n",
    "\n",
    "# sampling rate\n",
    "sr = 2000\n",
    "# sampling interval\n",
    "ts = 1.0/sr\n",
    "t = np.arange(0,1,ts)\n",
    "\n",
    "freq = 1.\n",
    "x = 3*np.sin(2*np.pi*freq*t)\n",
    "\n",
    "freq = 4\n",
    "x += np.sin(2*np.pi*freq*t)\n",
    "\n",
    "freq = 7   \n",
    "x += 0.5* np.sin(2*np.pi*freq*t)\n"
   ]
  },
  {
   "cell_type": "markdown",
   "id": "2efba8b6-66be-42d1-88f1-128f8cb5ee04",
   "metadata": {},
   "source": [
    "* With the data generated, plot it using the streamlit component: st.pyplots\n",
    "  * Suggestion: Create the plot with the matplotlib and display it with st.pyplots \n",
    "* Allow the user to input the 3 frequencies that define the signal (st.number_input)\n",
    "\n",
    "Your web page should look like:"
   ]
  },
  {
   "cell_type": "markdown",
   "id": "6d50673d-b399-4f0b-89a0-41a501441fd0",
   "metadata": {},
   "source": [
    "<tr><td style=\"background-color:#F5F5F5;\"><img src=\"goal_1_3.png\" width=\"500\" align='center'/></td></tr>"
   ]
  },
  {
   "cell_type": "markdown",
   "id": "8c8edb6b-5f37-46b6-8a33-e9b36188e5e4",
   "metadata": {},
   "source": [
    "## Goal 2.1 - Data Exchange between Streamlit and RPI with MQTT\n",
    "\n",
    "MQTT protocol allows machines to exchange data. So, we can use this protocol to get the data acquired by the acquisition machine and show it in streamlit. In the github of this course, there are two programs that allow you to test this concept. \n",
    "\n",
    "\n",
    "* Lab7_goal_2_1_PC.py – run from the anaconda prompt and can publish and subscribe data. When the user fills the input string, and press the publish button, the string is sent through MQTT. \n",
    "  * To start the MQTT connection, use the following parameters\n",
    "    * Broker: 192.168.1.98\n",
    "    * Publication topic: AAI/PV/cmd\n",
    "    * Subscription topic: AAI/PV/reply\n",
    "    * Note: you should change the ‘PV’ for something that identifies your group\n",
    "* Lab7_goal_2_1_RPI.py – run in the RPI and can also publish and subscribe data. Every time that a message is received in the subscribed topic, the replies with: RPI received the following string: <string>\n",
    "  * To start the MQTT connection, use the following parameters\n",
    "    * Broker: 192.168.1.98\n",
    "    * Publication topic: AAI/PV/reply\n",
    "    * Subscription topic: AAI/PV/cmd\n",
    "    * Note: you should change the ‘PV’ for something that identifies your group\n",
    "    \n",
    "Try these programs and studied them, for a better understanding how the two machines can interact.\n"
   ]
  },
  {
   "cell_type": "markdown",
   "id": "2f549b3f-3b22-441f-833e-37509266f097",
   "metadata": {},
   "source": [
    "## Goal 2.2 - Develop a Streamlit Inferface to Goal 2.2 of Lab 6\n",
    "\n",
    "In goal 2.2 of lab 6, using MQTT comunication, you were able to send the caracter 's' from the PC to the RPI, and the RPI replies with a list of numbers. Using these programs as base, develop a streamlit interface with:\n",
    "* A button, that when pressed, sends the charcter 's' to the RPI, through MQTT\n",
    "* When the list of numbers is returned from the RPI, the interface prints that list and generate a plot.\n",
    "\n",
    "Example of a possible interface:"
   ]
  },
  {
   "cell_type": "markdown",
   "id": "4ec2789d-230c-420e-b14e-9be85d185a11",
   "metadata": {},
   "source": [
    "<tr><td style=\"background-color:#F5F5F5;\"><img src=\"goal_2_2.png\" width=\"500\" align='center'/></td></tr>"
   ]
  },
  {
   "cell_type": "markdown",
   "id": "e2d204f5-5737-4e93-bee5-db3c18e15db7",
   "metadata": {},
   "source": [
    "## Goal 3 - Develop a Streamlit Inferface to Goal 3 of Lab 6\n",
    "\n",
    "Modify the program from Goal 2.2, and the one developed in goal 3 of Lab 6, to create a new program that:\n",
    "* whena button is pressed sends, publish through MQTT the number of the music/image that should be classified\n",
    "* When the RPI reply's with the result of the classification, display it and show an image, that represents the result of the classification."
   ]
  }
 ],
 "metadata": {
  "kernelspec": {
   "display_name": "Python [conda env:base] *",
   "language": "python",
   "name": "conda-base-py"
  },
  "language_info": {
   "codemirror_mode": {
    "name": "ipython",
    "version": 3
   },
   "file_extension": ".py",
   "mimetype": "text/x-python",
   "name": "python",
   "nbconvert_exporter": "python",
   "pygments_lexer": "ipython3",
   "version": "3.12.3"
  }
 },
 "nbformat": 4,
 "nbformat_minor": 5
}
