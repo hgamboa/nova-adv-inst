{
 "cells": [
  {
   "cell_type": "markdown",
   "id": "6a61b814-f3b4-4b68-b257-69ffe1d2acf5",
   "metadata": {},
   "source": [
    "## Lab3 Goal 1.1 FNN Solution\n",
    "\n",
    "PyTorch quick start example from: https://docs.pytorch.org/tutorials/beginner/basics/quickstart_tutorial.html\n",
    "\n",
    "This is basically copy of the example and no major modifications were made.\n",
    "\n",
    "For reasons of performance, this example uses a Feedforward Neural Network (FNN)"
   ]
  },
  {
   "cell_type": "code",
   "execution_count": 2,
   "id": "d7e99a0d-5f29-4273-9b2c-e640c7c88d52",
   "metadata": {},
   "outputs": [],
   "source": [
    "import torch\n",
    "from torch import nn\n",
    "from torch.utils.data import DataLoader\n",
    "from torchvision import datasets\n",
    "from torchvision.transforms import ToTensor"
   ]
  },
  {
   "cell_type": "code",
   "execution_count": 3,
   "id": "6d762b43-ed7e-4613-812a-9667e68c39c2",
   "metadata": {},
   "outputs": [],
   "source": [
    "# Download training data from open datasets.\n",
    "training_data = datasets.FashionMNIST(\n",
    "    root=\"data\",\n",
    "    train=True,\n",
    "    download=True,\n",
    "    transform=ToTensor(),\n",
    ")\n",
    "\n",
    "# Download test data from open datasets.\n",
    "test_data = datasets.FashionMNIST(\n",
    "    root=\"data\",\n",
    "    train=False,\n",
    "    download=True,\n",
    "    transform=ToTensor(),\n",
    ")"
   ]
  },
  {
   "cell_type": "code",
   "execution_count": 4,
   "id": "e6159675-2a76-42cb-857f-164dcfaa4c76",
   "metadata": {},
   "outputs": [
    {
     "name": "stdout",
     "output_type": "stream",
     "text": [
      "Shape of X [N, C, H, W]: torch.Size([64, 1, 28, 28])\n",
      "Shape of y: torch.Size([64]) torch.int64\n"
     ]
    }
   ],
   "source": [
    "batch_size = 64\n",
    "\n",
    "# Create data loaders.\n",
    "train_dataloader = DataLoader(training_data, batch_size=batch_size)\n",
    "test_dataloader = DataLoader(test_data, batch_size=batch_size)\n",
    "\n",
    "for X, y in test_dataloader:\n",
    "    print(f\"Shape of X [N, C, H, W]: {X.shape}\")\n",
    "    print(f\"Shape of y: {y.shape} {y.dtype}\")\n",
    "    break"
   ]
  },
  {
   "cell_type": "code",
   "execution_count": 5,
   "id": "26dc8907-36d7-4ce0-ab18-c9f22d7aaa5c",
   "metadata": {},
   "outputs": [
    {
     "name": "stdout",
     "output_type": "stream",
     "text": [
      "Using cuda device\n",
      "NeuralNetwork(\n",
      "  (flatten): Flatten(start_dim=1, end_dim=-1)\n",
      "  (linear_relu_stack): Sequential(\n",
      "    (0): Linear(in_features=784, out_features=512, bias=True)\n",
      "    (1): ReLU()\n",
      "    (2): Linear(in_features=512, out_features=512, bias=True)\n",
      "    (3): ReLU()\n",
      "    (4): Linear(in_features=512, out_features=10, bias=True)\n",
      "  )\n",
      ")\n"
     ]
    }
   ],
   "source": [
    "device = torch.accelerator.current_accelerator().type if torch.accelerator.is_available() else \"cpu\"\n",
    "print(f\"Using {device} device\")\n",
    "\n",
    "# Define model (Feedforward Neural Network (FNN) model)\n",
    "class NeuralNetwork(nn.Module):\n",
    "    def __init__(self):\n",
    "        super().__init__()\n",
    "        self.flatten = nn.Flatten()\n",
    "        self.linear_relu_stack = nn.Sequential(\n",
    "            nn.Linear(28*28, 512),\n",
    "            nn.ReLU(),\n",
    "            nn.Linear(512, 512),\n",
    "            nn.ReLU(),\n",
    "            nn.Linear(512, 10)\n",
    "        )\n",
    "\n",
    "    def forward(self, x):\n",
    "        x = self.flatten(x)\n",
    "        logits = self.linear_relu_stack(x)\n",
    "        return logits\n",
    "\n",
    "model = NeuralNetwork().to(device)\n",
    "print(model)"
   ]
  },
  {
   "cell_type": "code",
   "execution_count": 6,
   "id": "94bdbe3e-5056-4895-8455-4cc884a1559c",
   "metadata": {},
   "outputs": [],
   "source": [
    "loss_fn = nn.CrossEntropyLoss()\n",
    "optimizer = torch.optim.SGD(model.parameters(), lr=1e-3)"
   ]
  },
  {
   "cell_type": "code",
   "execution_count": 7,
   "id": "be0756ab-5670-4121-8c36-9a4ba88e46f3",
   "metadata": {},
   "outputs": [],
   "source": [
    "def train(dataloader, model, loss_fn, optimizer):\n",
    "    size = len(dataloader.dataset)\n",
    "    model.train()\n",
    "    for batch, (X, y) in enumerate(dataloader):\n",
    "        X, y = X.to(device), y.to(device)\n",
    "\n",
    "        # Compute prediction error\n",
    "        pred = model(X)\n",
    "        loss = loss_fn(pred, y)\n",
    "\n",
    "        # Backpropagation\n",
    "        loss.backward()\n",
    "        optimizer.step()\n",
    "        optimizer.zero_grad()\n",
    "\n",
    "        if batch % 100 == 0:\n",
    "            loss, current = loss.item(), (batch + 1) * len(X)\n",
    "            print(f\"loss: {loss:>7f}  [{current:>5d}/{size:>5d}]\")"
   ]
  },
  {
   "cell_type": "code",
   "execution_count": 8,
   "id": "54b9a791-43ab-4a1c-b277-d5e5934c93c6",
   "metadata": {},
   "outputs": [],
   "source": [
    "def test(dataloader, model, loss_fn):\n",
    "    size = len(dataloader.dataset)\n",
    "    num_batches = len(dataloader)\n",
    "    model.eval()\n",
    "    test_loss, correct = 0, 0\n",
    "    with torch.no_grad():\n",
    "        for X, y in dataloader:\n",
    "            X, y = X.to(device), y.to(device)\n",
    "            pred = model(X)\n",
    "            test_loss += loss_fn(pred, y).item()\n",
    "            correct += (pred.argmax(1) == y).type(torch.float).sum().item()\n",
    "    test_loss /= num_batches\n",
    "    correct /= size\n",
    "    print(f\"Test Error: \\n Accuracy: {(100*correct):>0.1f}%, Avg loss: {test_loss:>8f} \\n\")"
   ]
  },
  {
   "cell_type": "code",
   "execution_count": 9,
   "id": "fc4afa96-a729-4a90-9a01-18f82125ed18",
   "metadata": {},
   "outputs": [
    {
     "name": "stdout",
     "output_type": "stream",
     "text": [
      "Epoch 1\n",
      "-------------------------------\n",
      "loss: 2.295052  [   64/60000]\n",
      "loss: 2.285902  [ 6464/60000]\n",
      "loss: 2.267898  [12864/60000]\n",
      "loss: 2.265777  [19264/60000]\n",
      "loss: 2.249832  [25664/60000]\n",
      "loss: 2.211547  [32064/60000]\n",
      "loss: 2.229525  [38464/60000]\n",
      "loss: 2.187481  [44864/60000]\n",
      "loss: 2.188001  [51264/60000]\n",
      "loss: 2.162424  [57664/60000]\n",
      "Test Error: \n",
      " Accuracy: 46.9%, Avg loss: 2.150543 \n",
      "\n",
      "Epoch 2\n",
      "-------------------------------\n",
      "loss: 2.158378  [   64/60000]\n",
      "loss: 2.144917  [ 6464/60000]\n",
      "loss: 2.090229  [12864/60000]\n",
      "loss: 2.113996  [19264/60000]\n",
      "loss: 2.063669  [25664/60000]\n",
      "loss: 1.994837  [32064/60000]\n",
      "loss: 2.040258  [38464/60000]\n",
      "loss: 1.949320  [44864/60000]\n",
      "loss: 1.964372  [51264/60000]\n",
      "loss: 1.896581  [57664/60000]\n",
      "Test Error: \n",
      " Accuracy: 55.9%, Avg loss: 1.886280 \n",
      "\n",
      "Epoch 3\n",
      "-------------------------------\n",
      "loss: 1.917541  [   64/60000]\n",
      "loss: 1.880996  [ 6464/60000]\n",
      "loss: 1.770958  [12864/60000]\n",
      "loss: 1.820812  [19264/60000]\n",
      "loss: 1.709276  [25664/60000]\n",
      "loss: 1.653172  [32064/60000]\n",
      "loss: 1.696164  [38464/60000]\n",
      "loss: 1.584195  [44864/60000]\n",
      "loss: 1.622195  [51264/60000]\n",
      "loss: 1.513989  [57664/60000]\n",
      "Test Error: \n",
      " Accuracy: 61.4%, Avg loss: 1.523728 \n",
      "\n",
      "Epoch 4\n",
      "-------------------------------\n",
      "loss: 1.591012  [   64/60000]\n",
      "loss: 1.548388  [ 6464/60000]\n",
      "loss: 1.404603  [12864/60000]\n",
      "loss: 1.483021  [19264/60000]\n",
      "loss: 1.364428  [25664/60000]\n",
      "loss: 1.350812  [32064/60000]\n",
      "loss: 1.381774  [38464/60000]\n",
      "loss: 1.294959  [44864/60000]\n",
      "loss: 1.341994  [51264/60000]\n",
      "loss: 1.233377  [57664/60000]\n",
      "Test Error: \n",
      " Accuracy: 63.5%, Avg loss: 1.255151 \n",
      "\n",
      "Epoch 5\n",
      "-------------------------------\n",
      "loss: 1.333544  [   64/60000]\n",
      "loss: 1.309182  [ 6464/60000]\n",
      "loss: 1.147791  [12864/60000]\n",
      "loss: 1.258410  [19264/60000]\n",
      "loss: 1.136226  [25664/60000]\n",
      "loss: 1.149738  [32064/60000]\n",
      "loss: 1.185001  [38464/60000]\n",
      "loss: 1.112672  [44864/60000]\n",
      "loss: 1.164638  [51264/60000]\n",
      "loss: 1.066724  [57664/60000]\n",
      "Test Error: \n",
      " Accuracy: 64.8%, Avg loss: 1.086486 \n",
      "\n",
      "Done!\n"
     ]
    }
   ],
   "source": [
    "epochs = 5\n",
    "for t in range(epochs):\n",
    "    print(f\"Epoch {t+1}\\n-------------------------------\")\n",
    "    train(train_dataloader, model, loss_fn, optimizer)\n",
    "    test(test_dataloader, model, loss_fn)\n",
    "print(\"Done!\")"
   ]
  },
  {
   "cell_type": "code",
   "execution_count": 10,
   "id": "fe9f1ccb-0c26-4c94-a2c9-9ec77f58f566",
   "metadata": {},
   "outputs": [
    {
     "name": "stdout",
     "output_type": "stream",
     "text": [
      "Saved PyTorch Model State to model.pth\n"
     ]
    }
   ],
   "source": [
    "torch.save(model.state_dict(), \"model_FNN.pth\")\n",
    "print(\"Saved PyTorch Model State to model.pth\")"
   ]
  },
  {
   "cell_type": "code",
   "execution_count": 11,
   "id": "4cb230f3-a3a5-4ea1-aaed-bd7c9112d879",
   "metadata": {},
   "outputs": [
    {
     "data": {
      "text/plain": [
       "<All keys matched successfully>"
      ]
     },
     "execution_count": 11,
     "metadata": {},
     "output_type": "execute_result"
    }
   ],
   "source": [
    "model = NeuralNetwork().to(device)\n",
    "model.load_state_dict(torch.load(\"model_FNN.pth\", weights_only=True))"
   ]
  },
  {
   "cell_type": "code",
   "execution_count": 12,
   "id": "41c54a19-6791-45c3-a1fb-f5030415fa89",
   "metadata": {},
   "outputs": [
    {
     "name": "stdout",
     "output_type": "stream",
     "text": [
      "Predicted: \"Ankle boot\", Actual: \"Ankle boot\"\n"
     ]
    }
   ],
   "source": [
    "classes = [\n",
    "    \"T-shirt/top\",\n",
    "    \"Trouser\",\n",
    "    \"Pullover\",\n",
    "    \"Dress\",\n",
    "    \"Coat\",\n",
    "    \"Sandal\",\n",
    "    \"Shirt\",\n",
    "    \"Sneaker\",\n",
    "    \"Bag\",\n",
    "    \"Ankle boot\",\n",
    "]\n",
    "\n",
    "model.eval()\n",
    "x, y = test_data[0][0], test_data[0][1]\n",
    "with torch.no_grad():\n",
    "    x = x.to(device)\n",
    "    pred = model(x)\n",
    "    predicted, actual = classes[pred[0].argmax(0)], classes[y]\n",
    "    print(f'Predicted: \"{predicted}\", Actual: \"{actual}\"')"
   ]
  },
  {
   "cell_type": "code",
   "execution_count": null,
   "id": "946d8ee3-caed-4ac3-8c1a-3043077c4e3c",
   "metadata": {},
   "outputs": [],
   "source": []
  }
 ],
 "metadata": {
  "kernelspec": {
   "display_name": "Python [conda env:base] *",
   "language": "python",
   "name": "conda-base-py"
  },
  "language_info": {
   "codemirror_mode": {
    "name": "ipython",
    "version": 3
   },
   "file_extension": ".py",
   "mimetype": "text/x-python",
   "name": "python",
   "nbconvert_exporter": "python",
   "pygments_lexer": "ipython3",
   "version": "3.12.7"
  }
 },
 "nbformat": 4,
 "nbformat_minor": 5
}
