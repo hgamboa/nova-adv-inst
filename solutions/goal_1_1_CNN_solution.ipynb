{
 "cells": [
  {
   "cell_type": "markdown",
   "id": "6a61b814-f3b4-4b68-b257-69ffe1d2acf5",
   "metadata": {},
   "source": [
    "## Lab3 Goal 1.1 CNN Solution\n",
    "\n",
    "Modifies the model used of Goal 1.1 FNN solution to a CNN (Convolutional Neural Network)\n",
    "\n",
    "This model typically achieves superior accuracy, but requires more resources for training."
   ]
  },
  {
   "cell_type": "code",
   "execution_count": 51,
   "id": "d7e99a0d-5f29-4273-9b2c-e640c7c88d52",
   "metadata": {},
   "outputs": [],
   "source": [
    "import torch\n",
    "from torch import nn\n",
    "from torch.utils.data import DataLoader\n",
    "from torchvision import datasets\n",
    "from torchvision.transforms import ToTensor"
   ]
  },
  {
   "cell_type": "code",
   "execution_count": 52,
   "id": "6d762b43-ed7e-4613-812a-9667e68c39c2",
   "metadata": {},
   "outputs": [],
   "source": [
    "# Download training data from open datasets.\n",
    "training_data = datasets.FashionMNIST(\n",
    "    root=\"data\",\n",
    "    train=True,\n",
    "    download=True,\n",
    "    transform=ToTensor(),\n",
    ")\n",
    "\n",
    "# Download test data from open datasets.\n",
    "test_data = datasets.FashionMNIST(\n",
    "    root=\"data\",\n",
    "    train=False,\n",
    "    download=True,\n",
    "    transform=ToTensor(),\n",
    ")"
   ]
  },
  {
   "cell_type": "code",
   "execution_count": 53,
   "id": "e6159675-2a76-42cb-857f-164dcfaa4c76",
   "metadata": {},
   "outputs": [
    {
     "name": "stdout",
     "output_type": "stream",
     "text": [
      "Shape of X [N, C, H, W]: torch.Size([64, 1, 28, 28])\n",
      "Shape of y: torch.Size([64]) torch.int64\n"
     ]
    }
   ],
   "source": [
    "batch_size = 64\n",
    "\n",
    "# Create data loaders.\n",
    "train_dataloader = DataLoader(training_data, batch_size=batch_size)\n",
    "test_dataloader = DataLoader(test_data, batch_size=batch_size)\n",
    "\n",
    "for X, y in test_dataloader:\n",
    "    print(f\"Shape of X [N, C, H, W]: {X.shape}\")\n",
    "    print(f\"Shape of y: {y.shape} {y.dtype}\")\n",
    "    break"
   ]
  },
  {
   "cell_type": "code",
   "execution_count": 54,
   "id": "26dc8907-36d7-4ce0-ab18-c9f22d7aaa5c",
   "metadata": {},
   "outputs": [
    {
     "name": "stdout",
     "output_type": "stream",
     "text": [
      "Using cuda device\n",
      "NeuralNetwork(\n",
      "  (conv_stack): Sequential(\n",
      "    (0): Conv2d(1, 32, kernel_size=(3, 3), stride=(1, 1), padding=(1, 1))\n",
      "    (1): ReLU()\n",
      "    (2): MaxPool2d(kernel_size=2, stride=2, padding=0, dilation=1, ceil_mode=False)\n",
      "    (3): Conv2d(32, 64, kernel_size=(3, 3), stride=(1, 1), padding=(1, 1))\n",
      "    (4): ReLU()\n",
      "    (5): MaxPool2d(kernel_size=2, stride=2, padding=0, dilation=1, ceil_mode=False)\n",
      "  )\n",
      "  (classifier): Sequential(\n",
      "    (0): Flatten(start_dim=1, end_dim=-1)\n",
      "    (1): Linear(in_features=3136, out_features=512, bias=True)\n",
      "    (2): ReLU()\n",
      "    (3): Linear(in_features=512, out_features=10, bias=True)\n",
      "  )\n",
      ")\n"
     ]
    }
   ],
   "source": [
    "device = torch.accelerator.current_accelerator().type if torch.accelerator.is_available() else \"cpu\"\n",
    "print(f\"Using {device} device\")\n",
    "\n",
    "# Define model (Convoution Neural Network (CNN) model)\n",
    "class NeuralNetwork(nn.Module):\n",
    "    def __init__(self):\n",
    "        super().__init__()\n",
    "        self.conv_stack = nn.Sequential(\n",
    "            nn.Conv2d(1, 32, kernel_size=3, padding=1),  # Input: 1×28×28 → Output: 32×28×28\n",
    "            nn.ReLU(),\n",
    "            nn.MaxPool2d(2, 2),                         # Output: 32×14×14\n",
    "\n",
    "            nn.Conv2d(32, 64, kernel_size=3, padding=1),# Output: 64×14×14\n",
    "            nn.ReLU(),\n",
    "            nn.MaxPool2d(2, 2)                          # Output: 64×7×7\n",
    "        )\n",
    "\n",
    "        self.classifier = nn.Sequential(\n",
    "            nn.Flatten(),                               # Flatten 64×7×7 → 3136\n",
    "            nn.Linear(64 * 7 * 7, 512),\n",
    "            nn.ReLU(),\n",
    "            nn.Linear(512, 10)                          # 10 output classes\n",
    "        )\n",
    "\n",
    "    def forward(self, x):\n",
    "        x = self.conv_stack(x)\n",
    "        x = self.classifier(x)\n",
    "        return x\n",
    "\n",
    "model = NeuralNetwork().to(device)\n",
    "print(model)"
   ]
  },
  {
   "cell_type": "code",
   "execution_count": 55,
   "id": "94bdbe3e-5056-4895-8455-4cc884a1559c",
   "metadata": {},
   "outputs": [],
   "source": [
    "loss_fn = nn.CrossEntropyLoss()\n",
    "optimizer = torch.optim.SGD(model.parameters(), lr=1e-3)"
   ]
  },
  {
   "cell_type": "code",
   "execution_count": 56,
   "id": "be0756ab-5670-4121-8c36-9a4ba88e46f3",
   "metadata": {},
   "outputs": [],
   "source": [
    "def train(dataloader, model, loss_fn, optimizer):\n",
    "    size = len(dataloader.dataset)\n",
    "    model.train()\n",
    "    for batch, (X, y) in enumerate(dataloader):\n",
    "        X, y = X.to(device), y.to(device)\n",
    "\n",
    "        # Compute prediction error\n",
    "        pred = model(X)\n",
    "        loss = loss_fn(pred, y)\n",
    "\n",
    "        # Backpropagation\n",
    "        loss.backward()\n",
    "        optimizer.step()\n",
    "        optimizer.zero_grad()\n",
    "\n",
    "        if batch % 100 == 0:\n",
    "            loss, current = loss.item(), (batch + 1) * len(X)\n",
    "            print(f\"loss: {loss:>7f}  [{current:>5d}/{size:>5d}]\")"
   ]
  },
  {
   "cell_type": "code",
   "execution_count": 57,
   "id": "54b9a791-43ab-4a1c-b277-d5e5934c93c6",
   "metadata": {},
   "outputs": [],
   "source": [
    "def test(dataloader, model, loss_fn):\n",
    "    size = len(dataloader.dataset)\n",
    "    num_batches = len(dataloader)\n",
    "    model.eval()\n",
    "    test_loss, correct = 0, 0\n",
    "    with torch.no_grad():\n",
    "        for X, y in dataloader:\n",
    "            X, y = X.to(device), y.to(device)\n",
    "            pred = model(X)\n",
    "            test_loss += loss_fn(pred, y).item()\n",
    "            correct += (pred.argmax(1) == y).type(torch.float).sum().item()\n",
    "    test_loss /= num_batches\n",
    "    correct /= size\n",
    "    print(f\"Test Error: \\n Accuracy: {(100*correct):>0.1f}%, Avg loss: {test_loss:>8f} \\n\")"
   ]
  },
  {
   "cell_type": "code",
   "execution_count": 58,
   "id": "fc4afa96-a729-4a90-9a01-18f82125ed18",
   "metadata": {},
   "outputs": [
    {
     "name": "stdout",
     "output_type": "stream",
     "text": [
      "Epoch 1\n",
      "-------------------------------\n",
      "loss: 2.298105  [   64/60000]\n",
      "loss: 2.296595  [ 6464/60000]\n",
      "loss: 2.289516  [12864/60000]\n",
      "loss: 2.288608  [19264/60000]\n",
      "loss: 2.280614  [25664/60000]\n",
      "loss: 2.264225  [32064/60000]\n",
      "loss: 2.264091  [38464/60000]\n",
      "loss: 2.246985  [44864/60000]\n",
      "loss: 2.240802  [51264/60000]\n",
      "loss: 2.229663  [57664/60000]\n",
      "Test Error: \n",
      " Accuracy: 52.2%, Avg loss: 2.225539 \n",
      "\n",
      "Epoch 2\n",
      "-------------------------------\n",
      "loss: 2.226297  [   64/60000]\n",
      "loss: 2.220311  [ 6464/60000]\n",
      "loss: 2.186768  [12864/60000]\n",
      "loss: 2.186873  [19264/60000]\n",
      "loss: 2.142511  [25664/60000]\n",
      "loss: 2.101580  [32064/60000]\n",
      "loss: 2.078992  [38464/60000]\n",
      "loss: 2.008898  [44864/60000]\n",
      "loss: 1.962668  [51264/60000]\n",
      "loss: 1.861062  [57664/60000]\n",
      "Test Error: \n",
      " Accuracy: 54.9%, Avg loss: 1.838639 \n",
      "\n",
      "Epoch 3\n",
      "-------------------------------\n",
      "loss: 1.871634  [   64/60000]\n",
      "loss: 1.786209  [ 6464/60000]\n",
      "loss: 1.602075  [12864/60000]\n",
      "loss: 1.571836  [19264/60000]\n",
      "loss: 1.365254  [25664/60000]\n",
      "loss: 1.339514  [32064/60000]\n",
      "loss: 1.255676  [38464/60000]\n",
      "loss: 1.152984  [44864/60000]\n",
      "loss: 1.167584  [51264/60000]\n",
      "loss: 1.089463  [57664/60000]\n",
      "Test Error: \n",
      " Accuracy: 64.2%, Avg loss: 1.054925 \n",
      "\n",
      "Epoch 4\n",
      "-------------------------------\n",
      "loss: 1.131006  [   64/60000]\n",
      "loss: 1.104045  [ 6464/60000]\n",
      "loss: 0.892196  [12864/60000]\n",
      "loss: 1.045474  [19264/60000]\n",
      "loss: 0.893185  [25664/60000]\n",
      "loss: 0.928572  [32064/60000]\n",
      "loss: 0.931550  [38464/60000]\n",
      "loss: 0.817823  [44864/60000]\n",
      "loss: 0.893966  [51264/60000]\n",
      "loss: 0.915657  [57664/60000]\n",
      "Test Error: \n",
      " Accuracy: 70.2%, Avg loss: 0.838093 \n",
      "\n",
      "Epoch 5\n",
      "-------------------------------\n",
      "loss: 0.857228  [   64/60000]\n",
      "loss: 0.923455  [ 6464/60000]\n",
      "loss: 0.675756  [12864/60000]\n",
      "loss: 0.912893  [19264/60000]\n",
      "loss: 0.781480  [25664/60000]\n",
      "loss: 0.799063  [32064/60000]\n",
      "loss: 0.827129  [38464/60000]\n",
      "loss: 0.715898  [44864/60000]\n",
      "loss: 0.787215  [51264/60000]\n",
      "loss: 0.847228  [57664/60000]\n",
      "Test Error: \n",
      " Accuracy: 73.5%, Avg loss: 0.748711 \n",
      "\n",
      "Done!\n"
     ]
    }
   ],
   "source": [
    "epochs = 5\n",
    "for t in range(epochs):\n",
    "    print(f\"Epoch {t+1}\\n-------------------------------\")\n",
    "    train(train_dataloader, model, loss_fn, optimizer)\n",
    "    test(test_dataloader, model, loss_fn)\n",
    "print(\"Done!\")"
   ]
  },
  {
   "cell_type": "code",
   "execution_count": 59,
   "id": "fe9f1ccb-0c26-4c94-a2c9-9ec77f58f566",
   "metadata": {},
   "outputs": [
    {
     "name": "stdout",
     "output_type": "stream",
     "text": [
      "Saved PyTorch Model State to model.pth\n"
     ]
    }
   ],
   "source": [
    "torch.save(model.state_dict(), \"model_CNN.pth\")\n",
    "print(\"Saved PyTorch Model State to model.pth\")"
   ]
  },
  {
   "cell_type": "code",
   "execution_count": 60,
   "id": "4cb230f3-a3a5-4ea1-aaed-bd7c9112d879",
   "metadata": {},
   "outputs": [
    {
     "data": {
      "text/plain": [
       "<All keys matched successfully>"
      ]
     },
     "execution_count": 60,
     "metadata": {},
     "output_type": "execute_result"
    }
   ],
   "source": [
    "model = NeuralNetwork().to(device)\n",
    "model.load_state_dict(torch.load(\"model_CNN.pth\", weights_only=True))"
   ]
  },
  {
   "cell_type": "code",
   "execution_count": 72,
   "id": "41c54a19-6791-45c3-a1fb-f5030415fa89",
   "metadata": {},
   "outputs": [
    {
     "name": "stdout",
     "output_type": "stream",
     "text": [
      "9\n",
      "Predicted: \"Ankle boot\", Actual: \"Ankle boot\"\n"
     ]
    }
   ],
   "source": [
    "classes = [\n",
    "    \"T-shirt/top\",\n",
    "    \"Trouser\",\n",
    "    \"Pullover\",\n",
    "    \"Dress\",\n",
    "    \"Coat\",\n",
    "    \"Sandal\",\n",
    "    \"Shirt\",\n",
    "    \"Sneaker\",\n",
    "    \"Bag\",\n",
    "    \"Ankle boot\",\n",
    "]\n",
    "\n",
    "model.eval()\n",
    "x, y = test_data[0][0], test_data[0][1]\n",
    "with torch.no_grad():\n",
    "    #x = x.to(device)\n",
    "    x = x.unsqueeze(0).to(device)  # Shape becomes [1, 1, 28, 28]\n",
    "    pred = model(x)\n",
    "    predicted, actual = classes[pred[0].argmax(0)], classes[y]\n",
    "    print(f'Predicted: \"{predicted}\", Actual: \"{actual}\"')"
   ]
  },
  {
   "cell_type": "code",
   "execution_count": null,
   "id": "34115905-7b9a-44b2-8fe5-64b29e8059a0",
   "metadata": {},
   "outputs": [],
   "source": [
    "training_data"
   ]
  },
  {
   "cell_type": "code",
   "execution_count": null,
   "id": "946d8ee3-caed-4ac3-8c1a-3043077c4e3c",
   "metadata": {},
   "outputs": [],
   "source": []
  }
 ],
 "metadata": {
  "kernelspec": {
   "display_name": "Python [conda env:base] *",
   "language": "python",
   "name": "conda-base-py"
  },
  "language_info": {
   "codemirror_mode": {
    "name": "ipython",
    "version": 3
   },
   "file_extension": ".py",
   "mimetype": "text/x-python",
   "name": "python",
   "nbconvert_exporter": "python",
   "pygments_lexer": "ipython3",
   "version": "3.12.7"
  }
 },
 "nbformat": 4,
 "nbformat_minor": 5
}
