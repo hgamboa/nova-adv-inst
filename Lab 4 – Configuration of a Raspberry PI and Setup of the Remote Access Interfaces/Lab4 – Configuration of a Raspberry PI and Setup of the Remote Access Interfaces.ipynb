{
 "cells": [
  {
   "cell_type": "markdown",
   "id": "7a38ae7f-644c-411d-aa3e-8b2f4de9bd09",
   "metadata": {},
   "source": [
    "<table style=\"background-color:#F5F5F5;\" width=\"100%\">\n",
    "<tr><td style=\"background-color:#F5F5F5;\"><img src=\"logo.png\" width=\"300\" align='right'/></td></tr>     <tr><td>\n",
    "            <h1><center>Aplicações Avançadas de Instrumentação Biomédica (AAIB)</center></h1>\n",
    "            <h3><center>1st Semester - 2025/2026</center></h3>\n",
    "            <h4><center>Universidade Nova de Lisboa - Faculdade de Ciências e Tecnologia</center></h4>\n",
    "</td></tr>\n",
    "    <tr><td><h1><center>Lab 4 – Configuration of a Raspberry PI and Setup of the Remote Access Interfaces </center></h1></td></tr>\n",
    "</table>"
   ]
  },
  {
   "cell_type": "markdown",
   "id": "e3b98bce-e99d-4329-a490-be0c065c2543",
   "metadata": {},
   "source": [
    "## Goals:\n",
    "\n",
    "To setup the necessary enviorements to work with a Raspberry Pi and use diferent modes to access its functionalities."
   ]
  },
  {
   "cell_type": "markdown",
   "id": "3b1cf220-a5b5-4af4-8779-4776c0cca9ef",
   "metadata": {},
   "source": [
    "## Prerequisites:\n",
    "\n",
    "* For this lab you will need to install a [SSH](https://en.wikipedia.org/wiki/Secure_Shell_Protocol) and an [SFTP](https://en.wikipedia.org/wiki/SSH_File_Transfer_Protocol) client in order to connect to the Raspberry Pi (RPi). To help interact with the RPi in the headless mode, you will also install a remote access software with a GUI.\n",
    "  \n",
    "  * Windows:   \n",
    "    * Install the [**Bitvise SSH Client**](https://www.bitvise.com/ssh-client-download)\n",
    "      * https://www.bitvise.com/ssh-client-download \n",
    "    * Install the [**VNC Viewer**](https://www.realvnc.com/pt/connect/download/viewer)\n",
    "      * https://www.realvnc.com/en/connect/download/viewer/ \n",
    "\n",
    "  * macOS:    \n",
    "    * Install [**Cyberduck**](https://cyberduck.io)\n",
    "    * Install the [**VNC Viewer**](https://www.realvnc.com/pt/connect/download/viewer)\n",
    "\n",
    "* You also need a raspberry PI computer and a SD card with its operating system. A unique SD card was prepared for each group and you must use only this card during the course. The SD card has the following contents **already installed** (FOR THE MOMENT, YOU DON'T NEED TO DO ANY MORE INSTALATIONS):\n",
    "\n",
    "  \n",
    "  * The latest release of the 64bit Raspberry Pi operating system for Raspberry 4 \n",
    "    * https://www.raspberrypi.com/software/\n",
    "    * ssh access active\n",
    "    * vnc access active\n",
    "    * Configured to access to the lab wifi network\n",
    "      * unique ip adress (192.168.1.###)\n",
    "      * login: pi\n",
    "      * password: raspberry \n",
    "  * Jupyter notebook \n",
    "    * Installed with: sudo pip install notebook\n",
    "  * MatPlotLib\n",
    "    * Installed with: sudo pip install matplotlib\n",
    "  * scipy\n",
    "    * Installed with: sudo pip install scipy\n",
    "  * Orange 3\n",
    "    * Installed with: sudo pip install orange3\n",
    "  * pydub\n",
    "    * Installed with: sudo pip install pydub\n",
    "  * tsfel\n",
    "    * Installed with: sudo pip install tsfel\n",
    "  * PyTorch\n",
    "    * Installed with: sudo pip install torch torchvision --index-url https://download.pytorch.org/whl/cpu\n"
   ]
  },
  {
   "cell_type": "markdown",
   "id": "bf9dd172-c616-4c97-8cf0-c0ee5042b4ca",
   "metadata": {},
   "source": [
    "## Powering Up RPI\n",
    "\n",
    "* Connect your laptop to the local lab wifi network\n",
    "  * SSID: **pi or pi-5G**\n",
    "  * Pass: **raspberry**\n",
    "* Before power up the RPI, insert the SD card in the appropriated  slot of the Raspberry PI computer (RPI) \n",
    "* Connect the RPI to the power supply trough the usb cable provided. This usb cable is only for the purpose of powering the RPI, so even if you connect it to your computer, no data will flow through this cable.\n",
    "* Wait one minute or so, to RPI to boot.\n",
    "* Test connection between your pc and RPI\n",
    "  * In the PC open a command line or command shell\n",
    "  * Execute the following command **ping 192.168.1.###** (### is specific to your group)  \n",
    "  * If connection successful  you should see a reply like this:\n",
    "    * *Reply from 192.168.1.10: bytes=32 time<1ms TTL=64*\n",
    "  * Do Ctrl^C if you need to stop the ping command"
   ]
  },
  {
   "cell_type": "markdown",
   "id": "aca7e5fd-9239-4b48-8f2d-37a797af687c",
   "metadata": {},
   "source": [
    "## Goal 1.1 - Connect to the RPi via SSH\n",
    "\n",
    "**NOTE:** Before proceeding, it is recommended that you fully understand the concepts of user and host ID. Take a look at the following [content](https://searchnetworking.techtarget.com/definition/host).\n",
    "The user is `pi`, password `raspberry`. The `host ID` is written on your SD card and correspond to its IP address. \n",
    "\n",
    "* Windows:\n",
    "  * Use Bitvise and establish an SSH connection with the `host ID` and using the `user` and `password`.\n",
    "  * Open a `New terminal console`\n",
    "\n",
    "* macOS:\n",
    "  * Use the ssh command on the macOS terminal replacing `user` and `host ID`.\n",
    "    * `ssh user@hostname`\n",
    "    * Type `password`, when requested\n",
    "\n",
    "You have now access to the command line of linux. Try a few simple commands, as `ls` to list folder contents. \n",
    "Try this link if you are not familiar with linux commands:\n",
    "\n",
    "* https://maker.pro/linux/tutorial/basic-linux-commands-for-beginners"
   ]
  },
  {
   "cell_type": "markdown",
   "id": "fe2ff931-490f-4236-a92a-932da8ba3174",
   "metadata": {},
   "source": [
    "## Goal 1.2 - Transfer files via SFTP\n",
    "\n",
    "* Windows:\n",
    "  * Open a `New SFTP window`\n",
    "* macOS:\n",
    "  * Run Cyberduck and select SFTP connection\n",
    "  * user the same credentials as before \n",
    "\n",
    "Create a new folder in the RPi and try to copy some files from your laptop to the RPi, and the other way round. "
   ]
  },
  {
   "cell_type": "markdown",
   "id": "b3905b1e-3c26-48e0-bf1a-f56ab253707a",
   "metadata": {},
   "source": [
    "## Goal 1.3 - Jupyter Notebook\n",
    "\n",
    "To start the jupyter notebook in your RPI, from the RPI ssh shell, execute:\n",
    "\n",
    "`\n",
    "jupyter notebook --ip 192.168.1.###\n",
    "`(### is specific to your group)\n",
    "\n",
    "The jupyter session will begin and will give you a link to use, like this (but not this one):\n",
    "\n",
    "`\n",
    "http://192.168.1.10:8888/?token=285d53bf433ec1040e6cb81c14df8f67049fe04b6b8faf05\n",
    "`\n",
    "\n",
    "Copy the link for a browser in you pc and you are ready to go.\n",
    "\n",
    "Try to run some of scripts that you develop in P1.\n",
    "\n",
    "**Remember:** You are runnig Jupyter notebook in the RPI and not in PC, so you need to copy first the scripts from the PC to the RPI, using SFTP.\n",
    "\n",
    "**Note:** All the necessary libraries are already pre-installed in your RPI, so we can run the examples immediatly."
   ]
  },
  {
   "cell_type": "markdown",
   "id": "8152324e-c07c-497a-848f-378972f0c94c",
   "metadata": {},
   "source": [
    "## Goal 1.4 - the nano text editor\n",
    "\n",
    "Often it is necessary or convinient to edit texts directly in the cmd shell of the RPI. Than can be done with a simple but powerfull text editor called `nano`\n",
    "\n",
    "Lets create a 1st python program with it. In command shell do:\n",
    "* nano MyFirtPrg.py\n",
    "  * *the nano interface shows up*\n",
    "  * Write: print('Hello world')\n",
    "  * *close nano and save file* by doing: Ctrl-X\n",
    "  * *After confirm that you want to save the file, you return to the cmd prompt*\n",
    "* python MyFirtPrg.py\n",
    "  * *The program will execute and prints Hello World* "
   ]
  },
  {
   "cell_type": "markdown",
   "id": "b2b553d9-2a11-4774-bcb5-a1fc27f40fc2",
   "metadata": {},
   "source": [
    "## Goal 1.5 - Remote desktop to the RPi\n",
    "\n",
    "Use the  VNC Viewer in your laptop and configure a new connection:\n",
    "\n",
    "**Address:** 192.168.1.### (Replace ### with the Host ID)\n",
    "**Pass:** raspberry\n",
    "\n",
    "Finish the connection. You should see,  in the screen of your computer, the interface X of the RPI. Here you can find a more user friendly and familiar interface. Take a moment to explore it. \n",
    "\n",
    "**Advise:** Despite the interface X be much more user friendly, it takes much more resources of a machine that is not very powerfull. So it is advisable to minimse its use. \n"
   ]
  }
 ],
 "metadata": {
  "kernelspec": {
   "display_name": "Python [conda env:base] *",
   "language": "python",
   "name": "conda-base-py"
  },
  "language_info": {
   "codemirror_mode": {
    "name": "ipython",
    "version": 3
   },
   "file_extension": ".py",
   "mimetype": "text/x-python",
   "name": "python",
   "nbconvert_exporter": "python",
   "pygments_lexer": "ipython3",
   "version": "3.12.7"
  }
 },
 "nbformat": 4,
 "nbformat_minor": 5
}
