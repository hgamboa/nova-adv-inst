{
 "cells": [
  {
   "cell_type": "code",
   "execution_count": 1,
   "id": "3312c80c-37e7-49a2-b242-d5a269f1bf9e",
   "metadata": {},
   "outputs": [],
   "source": [
    "# imports\n",
    "import pickle"
   ]
  },
  {
   "cell_type": "code",
   "execution_count": 5,
   "id": "6505b5a7-9b4c-4594-9eb8-b9c824df9620",
   "metadata": {},
   "outputs": [],
   "source": [
    "# Load the saved Orange model\n",
    "with open('model1.pkcls', 'rb') as model_file:\n",
    "    model = pickle.load(model_file)"
   ]
  },
  {
   "cell_type": "code",
   "execution_count": 7,
   "id": "5dba4838-7702-4ca2-b24a-b66b96db0c76",
   "metadata": {},
   "outputs": [
    {
     "name": "stdout",
     "output_type": "stream",
     "text": [
      "SklModelClassification(skl_model=KNeighborsClassifier(metric='euclidean'))  # params={'n_neighbors': 5, 'weights': 'uniform', 'algorithm': 'auto', 'metric': 'euclidean', 'metric_params': None}\n"
     ]
    }
   ],
   "source": [
    "# Print or use the model\n",
    "print(model)"
   ]
  },
  {
   "cell_type": "code",
   "execution_count": 11,
   "id": "6761ddaf-5dca-4ea9-9c59-f1c6bcd200d7",
   "metadata": {},
   "outputs": [
    {
     "name": "stdout",
     "output_type": "stream",
     "text": [
      "Predicted class: [0.]\n"
     ]
    }
   ],
   "source": [
    "#Example 1\n",
    "\n",
    "#Features\n",
    "sepal_length = 5.1\n",
    "sepal_width = 3.5\n",
    "petal_length = 1.4\n",
    "petal_width = 0.2\n",
    "\n",
    "features=[[sepal_length, sepal_width, petal_length, petal_width]]\n",
    "\n",
    "#prediction\n",
    "prediction = model(features)\n",
    "print(\"Predicted class:\", prediction)\n"
   ]
  },
  {
   "cell_type": "code",
   "execution_count": 13,
   "id": "4e0d2d80-6e73-4023-b4f2-118bbb92ed27",
   "metadata": {},
   "outputs": [
    {
     "name": "stdout",
     "output_type": "stream",
     "text": [
      "Predicted class: [2.]\n"
     ]
    }
   ],
   "source": [
    "#Example 2\n",
    "\n",
    "#Features\n",
    "sepal_length = 6.2\n",
    "sepal_width = 2.8\n",
    "petal_length = 4.8\n",
    "petal_width = 1.8\n",
    "\n",
    "features=[[sepal_length, sepal_width, petal_length, petal_width]]\n",
    "\n",
    "#prediction\n",
    "prediction = model(features)\n",
    "print(\"Predicted class:\", prediction)"
   ]
  },
  {
   "cell_type": "code",
   "execution_count": null,
   "id": "d06bbc34-5740-4eee-b740-586b04d8e422",
   "metadata": {},
   "outputs": [],
   "source": []
  }
 ],
 "metadata": {
  "kernelspec": {
   "display_name": "Python [conda env:base] *",
   "language": "python",
   "name": "conda-base-py"
  },
  "language_info": {
   "codemirror_mode": {
    "name": "ipython",
    "version": 3
   },
   "file_extension": ".py",
   "mimetype": "text/x-python",
   "name": "python",
   "nbconvert_exporter": "python",
   "pygments_lexer": "ipython3",
   "version": "3.12.7"
  }
 },
 "nbformat": 4,
 "nbformat_minor": 5
}
