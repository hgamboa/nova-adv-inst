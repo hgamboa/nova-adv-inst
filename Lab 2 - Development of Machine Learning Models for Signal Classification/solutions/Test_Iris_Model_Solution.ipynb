{
 "cells": [
  {
   "cell_type": "code",
   "execution_count": 1,
   "id": "3312c80c-37e7-49a2-b242-d5a269f1bf9e",
   "metadata": {},
   "outputs": [],
   "source": [
    "# imports\n",
    "import pickle"
   ]
  },
  {
   "cell_type": "code",
   "execution_count": 3,
   "id": "6505b5a7-9b4c-4594-9eb8-b9c824df9620",
   "metadata": {},
   "outputs": [],
   "source": [
    "# Load the saved Orange model\n",
    "with open('model1.pkcls', 'rb') as model_file:\n",
    "    model = pickle.load(model_file)"
   ]
  },
  {
   "cell_type": "code",
   "execution_count": 4,
   "id": "5dba4838-7702-4ca2-b24a-b66b96db0c76",
   "metadata": {},
   "outputs": [
    {
     "name": "stdout",
     "output_type": "stream",
     "text": [
      "SklModelClassification(skl_model=KNeighborsClassifier(metric='euclidean'))  # params={'n_neighbors': 5, 'weights': 'uniform', 'algorithm': 'auto', 'metric': 'euclidean', 'metric_params': None}\n"
     ]
    }
   ],
   "source": [
    "# Print or use the model\n",
    "print(model)"
   ]
  },
  {
   "cell_type": "code",
   "execution_count": 7,
   "id": "a73904f0-a540-4444-b0ef-d8ec7df7eb68",
   "metadata": {},
   "outputs": [],
   "source": [
    "#verbose the classes\n",
    "classes = ['Iris Setosa', 'Iris versicolor', 'Iris virginica']"
   ]
  },
  {
   "cell_type": "code",
   "execution_count": 11,
   "id": "49862c53-18e4-440c-967d-b1c1355d678e",
   "metadata": {},
   "outputs": [
    {
     "name": "stdin",
     "output_type": "stream",
     "text": [
      "Value of sepal length:  5.1\n",
      "Value of sepal width:  3.8\n",
      "Value of petal length:  1.6\n",
      "Value of petal width:  0.2\n"
     ]
    },
    {
     "name": "stdout",
     "output_type": "stream",
     "text": [
      "Predicted class: [0.]\n",
      "Predicted class verbose: Iris Setosa\n"
     ]
    }
   ],
   "source": [
    "#request from the user, the features to be classified\n",
    "sepal_length = input('Value of sepal length: ')\n",
    "sepal_width = input('Value of sepal width: ')\n",
    "petal_length = input('Value of petal length: ')\n",
    "petal_width = input('Value of petal width: ')\n",
    "\n",
    "features=[[sepal_length, sepal_width, petal_length, petal_width]]\n",
    "\n",
    "#prediction\n",
    "prediction = model(features)\n",
    "print(\"Predicted class:\", prediction)\n",
    "print(\"Predicted class verbose:\", classes[prediction.astype(float).astype(int)[0]])\n"
   ]
  },
  {
   "cell_type": "code",
   "execution_count": null,
   "id": "49f854d6-a4a5-4d28-afb7-8d4bfcaa0f22",
   "metadata": {},
   "outputs": [],
   "source": []
  }
 ],
 "metadata": {
  "kernelspec": {
   "display_name": "Python [conda env:base] *",
   "language": "python",
   "name": "conda-base-py"
  },
  "language_info": {
   "codemirror_mode": {
    "name": "ipython",
    "version": 3
   },
   "file_extension": ".py",
   "mimetype": "text/x-python",
   "name": "python",
   "nbconvert_exporter": "python",
   "pygments_lexer": "ipython3",
   "version": "3.12.7"
  }
 },
 "nbformat": 4,
 "nbformat_minor": 5
}
