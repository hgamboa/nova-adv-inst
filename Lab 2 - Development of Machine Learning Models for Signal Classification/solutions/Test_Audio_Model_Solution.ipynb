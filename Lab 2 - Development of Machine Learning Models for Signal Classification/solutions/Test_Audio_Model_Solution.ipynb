{
 "cells": [
  {
   "cell_type": "code",
   "execution_count": 1,
   "id": "3312c80c-37e7-49a2-b242-d5a269f1bf9e",
   "metadata": {},
   "outputs": [],
   "source": [
    "# imports\n",
    "#import Libraries\n",
    "import numpy as np\n",
    "from pydub import AudioSegment\n",
    "import os\n",
    "import glob\n",
    "import tsfel\n",
    "import csv\n",
    "import pickle"
   ]
  },
  {
   "cell_type": "code",
   "execution_count": 3,
   "id": "b5a6c222-1b36-464a-9284-aac1899e43ef",
   "metadata": {},
   "outputs": [],
   "source": [
    "#configuration\n",
    "fs=44100        #audio sampling frequency\n",
    "t=2             #total time of music sample"
   ]
  },
  {
   "cell_type": "code",
   "execution_count": 131,
   "id": "6505b5a7-9b4c-4594-9eb8-b9c824df9620",
   "metadata": {},
   "outputs": [],
   "source": [
    "# Load the saved Orange model\n",
    "with open('model_audio.pkcls', 'rb') as model_file:\n",
    "    model = pickle.load(model_file)"
   ]
  },
  {
   "cell_type": "code",
   "execution_count": 133,
   "id": "5dba4838-7702-4ca2-b24a-b66b96db0c76",
   "metadata": {},
   "outputs": [
    {
     "name": "stdout",
     "output_type": "stream",
     "text": [
      "SklModelClassification(skl_model=SVC(coef0=1.0, gamma='auto', max_iter=100, probability=True))  # params={'C': 1.0, 'kernel': 'rbf', 'degree': 3, 'gamma': 'auto', 'coef0': 1.0, 'shrinking': True, 'probability': True, 'tol': 0.001, 'cache_size': 200, 'max_iter': 100}\n"
     ]
    }
   ],
   "source": [
    "# Print or use the model\n",
    "print(model)"
   ]
  },
  {
   "cell_type": "code",
   "execution_count": 141,
   "id": "0cfb7906-71f0-41a0-9037-2ab3d98755d0",
   "metadata": {},
   "outputs": [
    {
     "name": "stdout",
     "output_type": "stream",
     "text": [
      "0 -> .\\audio_files\\cozy-romantic-relaxing-podcast-jazz-music-212468.mp3\n",
      "1 -> .\\audio_files\\easy-podcast-intro-theme-255102.mp3\n",
      "2 -> .\\audio_files\\elevator-small-talk-255085.mp3\n"
     ]
    },
    {
     "name": "stdin",
     "output_type": "stream",
     "text": [
      "Select the number of the audio file: 0\n"
     ]
    }
   ],
   "source": [
    "#list all the mp3 in audio folder:\n",
    "audio_folder = \".\\\\audio_files\\\\\"\n",
    "mp3_files = glob.glob(audio_folder+\"*.mp3\")\n",
    "\n",
    "print('\\n'.join('{} -> {}'.format(*k) for k in enumerate(mp3_files)))\n",
    "\n",
    "#request user to selesct file\n",
    "audio_n=input('Select the number of the audio file:')"
   ]
  },
  {
   "cell_type": "code",
   "execution_count": 145,
   "id": "8b5fb94c-3e02-4ee0-bfe8-74b2c0d47ad3",
   "metadata": {},
   "outputs": [
    {
     "name": "stdout",
     "output_type": "stream",
     "text": [
      "Loading.\\audio_files\\cozy-romantic-relaxing-podcast-jazz-music-212468.mp3\n",
      "[1987.9531770558785, 0.0020221916410620416, 8.917202451102954, 2.5405630405294315, -5.057343567377034e-09, 3785.0560542992844, 0.16476461999674552]\n"
     ]
    }
   ],
   "source": [
    "#extract features\n",
    "features=[]     #list of features\n",
    "\n",
    "# Load MP3 file\n",
    "print('Loading' + mp3_files[int(audio_n)])\n",
    "audio = AudioSegment.from_file(mp3_files[int(audio_n)])\n",
    "\n",
    "#convert to mono\n",
    "audio = audio.set_channels(1)\n",
    "\n",
    "# Convert to NumPy array\n",
    "signal = np.array(audio.get_array_of_samples())\n",
    "\n",
    "#extract part of the signal\n",
    "#this is important speedup the process\n",
    "n=3\n",
    "s=signal[n*fs*t:(n+1)*(fs*t)]\n",
    "\n",
    "#extract features\n",
    "features.append(tsfel.feature_extraction.features.spectral_centroid(s, fs))\n",
    "features.append(tsfel.feature_extraction.features.spectral_decrease(s, fs))\n",
    "features.append(tsfel.feature_extraction.features.spectral_kurtosis(s, fs))\n",
    "features.append(tsfel.feature_extraction.features.spectral_skewness(s, fs))\n",
    "features.append(tsfel.feature_extraction.features.spectral_slope(s, fs))\n",
    "features.append(tsfel.feature_extraction.features.spectral_spread(s, fs))\n",
    "features.append(tsfel.feature_extraction.features.spectral_variation(s, fs))\n",
    "\n",
    "print(features)\n"
   ]
  },
  {
   "cell_type": "code",
   "execution_count": 163,
   "id": "6761ddaf-5dca-4ea9-9c59-f1c6bcd200d7",
   "metadata": {},
   "outputs": [
    {
     "name": "stdout",
     "output_type": "stream",
     "text": [
      "Predicted class: 2.0\n",
      "Predicted class verbose: .\\audio_files\\elevator-small-talk-255085.mp3\n"
     ]
    }
   ],
   "source": [
    "#prediction\n",
    "prediction = model(features)\n",
    "print(\"Predicted class:\", prediction)\n",
    "print(\"Predicted class verbose:\", mp3_files[prediction.astype(float).astype(int)])"
   ]
  },
  {
   "cell_type": "code",
   "execution_count": null,
   "id": "d06bbc34-5740-4eee-b740-586b04d8e422",
   "metadata": {},
   "outputs": [],
   "source": []
  }
 ],
 "metadata": {
  "kernelspec": {
   "display_name": "Python [conda env:base] *",
   "language": "python",
   "name": "conda-base-py"
  },
  "language_info": {
   "codemirror_mode": {
    "name": "ipython",
    "version": 3
   },
   "file_extension": ".py",
   "mimetype": "text/x-python",
   "name": "python",
   "nbconvert_exporter": "python",
   "pygments_lexer": "ipython3",
   "version": "3.12.7"
  }
 },
 "nbformat": 4,
 "nbformat_minor": 5
}
